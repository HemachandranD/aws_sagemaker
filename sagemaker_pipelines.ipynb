{
 "cells": [
  {
   "cell_type": "code",
   "execution_count": 1,
   "id": "fe3ee01b-fa89-4666-a8a1-df7b8bc9c6d8",
   "metadata": {},
   "outputs": [
    {
     "name": "stdout",
     "output_type": "stream",
     "text": [
      "sagemaker.config INFO - Not applying SDK defaults from location: /etc/xdg/sagemaker/config.yaml\n",
      "sagemaker.config INFO - Not applying SDK defaults from location: /home/sagemaker-user/.config/sagemaker/config.yaml\n"
     ]
    }
   ],
   "source": [
    "import sagemaker\n",
    "import boto3\n",
    "from sagemaker.inputs import TrainingInput\n",
    "from sagemaker.model import Model\n",
    "from sagemaker.processing import ScriptProcessor\n",
    "from sagemaker.workflow.pipeline import Pipeline\n",
    "from sagemaker.workflow.pipeline_context import PipelineSession\n",
    "from sagemaker.workflow.steps import ProcessingStep, TrainingStep, CreateModelStep\n",
    "from sagemaker.workflow.model_step import ModelStep\n",
    "from sagemaker.workflow.parameters import ParameterString"
   ]
  },
  {
   "cell_type": "code",
   "execution_count": 2,
   "id": "f5a6a2ff-57c6-45ca-a919-87adf04e8764",
   "metadata": {},
   "outputs": [],
   "source": [
    "# Initialize SageMaker session and client\n",
    "sagemaker_session = sagemaker.Session()\n",
    "sm_client = boto3.client('sagemaker')\n",
    "pipeline_session = PipelineSession()\n",
    "role = sagemaker.get_execution_role()  # Replace with your SageMaker execution role"
   ]
  },
  {
   "cell_type": "code",
   "execution_count": 3,
   "id": "48aea13c-ea78-4594-bb26-b6108b5affec",
   "metadata": {},
   "outputs": [],
   "source": [
    "# Define input parameters\n",
    "input_data_uri = ParameterString(\n",
    "    name=\"InputDataUri\",\n",
    "    default_value=\"s3://hemz-bucket/input-data/\"\n",
    ")\n",
    "\n",
    "output_data_uri = ParameterString(\n",
    "    name=\"OutputDataUri\",\n",
    "    default_value=\"s3://hemz-bucket/output-data/\"\n",
    ")\n",
    "\n",
    "model_approval_status = ParameterString(\n",
    "    name=\"ModelApprovalStatus\",\n",
    "    default_value=\"Approved\"\n",
    ")\n",
    "\n",
    "custom_image_uri = \"654654222480.dkr.ecr.us-east-1.amazonaws.com/demo_prophet:latest\"\n",
    "\n",
    "model_package_group_name = \"DemoProphetModelGroup\""
   ]
  },
  {
   "cell_type": "code",
   "execution_count": 4,
   "id": "2b3a6c34-3a72-4905-a486-c6385719cf32",
   "metadata": {},
   "outputs": [],
   "source": [
    "# Define preprocessing step\n",
    "script_processor = ScriptProcessor(\n",
    "    image_uri=custom_image_uri,  # Use a custom image with Prophet installed\n",
    "    command=[\"python3\"],\n",
    "    role=role,\n",
    "    sagemaker_session=pipeline_session,\n",
    "    instance_count=1,\n",
    "    instance_type=\"ml.t3.medium\"\n",
    ")"
   ]
  },
  {
   "cell_type": "code",
   "execution_count": 5,
   "id": "ea850f36-16ed-494b-9ea8-45b35086733d",
   "metadata": {},
   "outputs": [],
   "source": [
    "preprocessing_step = ProcessingStep(\n",
    "    name=\"PreprocessData\",\n",
    "    processor=script_processor,\n",
    "    inputs=[sagemaker.processing.ProcessingInput(source=input_data_uri, destination=\"/opt/ml/processing/input\")],\n",
    "    outputs=[sagemaker.processing.ProcessingOutput(output_name=\"processed_data\", destination=output_data_uri, source=\"/opt/ml/processing/output/preprocessed\")],\n",
    "    code=\"code/preprocess.py\"  # Replace with your preprocessing script\n",
    ")"
   ]
  },
  {
   "cell_type": "code",
   "execution_count": 6,
   "id": "0c4a850d-8597-4182-823c-2d999c693a5e",
   "metadata": {},
   "outputs": [],
   "source": [
    "# preprocessing_step = script_processor.run(\n",
    "#     inputs=[sagemaker.processing.ProcessingInput(source=input_data_uri, destination=\"/opt/ml/processing/input\")],\n",
    "#     outputs=[sagemaker.processing.ProcessingOutput(output_name=\"processed_data\", destination=output_data_uri, source=\"/opt/ml/processing/output\")],\n",
    "#     code=\"code/preprocess.py\"  # Replace with your preprocessing script\n",
    "# )"
   ]
  },
  {
   "cell_type": "code",
   "execution_count": 7,
   "id": "85b59103-df1c-4d04-a213-8286df10727b",
   "metadata": {},
   "outputs": [],
   "source": [
    "# preprocessing_step = ProcessingStep(name=\"PreprocessData\", step_args=preprocessing_step)"
   ]
  },
  {
   "cell_type": "code",
   "execution_count": 8,
   "id": "a839b4bc-d7ec-465f-bbd7-ee192b2b82b3",
   "metadata": {},
   "outputs": [],
   "source": [
    "# Define the custom estimator for Prophet\n",
    "prophet_estimator = sagemaker.estimator.Estimator(\n",
    "    image_uri=custom_image_uri,  # Use a custom image with Prophet installed\n",
    "    role=role,\n",
    "    instance_count=1,\n",
    "    instance_type=\"ml.t3.medium\",\n",
    "    entry_point='code/train.py',\n",
    "    script_mode=True,\n",
    "    output_path=\"s3://hemz-bucket/output-data/model-artifacts/\"\n",
    ")"
   ]
  },
  {
   "cell_type": "code",
   "execution_count": 10,
   "id": "0c364f01-74e3-47b7-943a-09d4b2dbe238",
   "metadata": {},
   "outputs": [],
   "source": [
    "# Define training step\n",
    "training_step = TrainingStep(\n",
    "    name=\"TrainProphetModel\",\n",
    "    estimator=prophet_estimator,\n",
    "    inputs={\n",
    "        \"train\": TrainingInput(s3_data=preprocessing_step.properties.ProcessingOutputConfig.Outputs[\"preprocessed\"].S3Output.S3Uri, content_type=\"text/csv\")\n",
    "    }\n",
    ")"
   ]
  },
  {
   "cell_type": "code",
   "execution_count": 11,
   "id": "aa2a6eac-12a3-4bf2-8e93-139911475da9",
   "metadata": {},
   "outputs": [],
   "source": [
    "model = Model(\n",
    "    image_uri=custom_image_uri,\n",
    "    model_data=training_step.properties.ModelArtifacts.S3ModelArtifacts,\n",
    "    sagemaker_session=pipeline_session,\n",
    "    role=role,\n",
    ")"
   ]
  },
  {
   "cell_type": "code",
   "execution_count": 12,
   "id": "bdd371e2-a772-4e8c-b635-c416cf114d5f",
   "metadata": {},
   "outputs": [
    {
     "name": "stderr",
     "output_type": "stream",
     "text": [
      "/opt/conda/lib/python3.10/site-packages/sagemaker/workflow/pipeline_context.py:332: UserWarning: Running within a PipelineSession, there will be No Wait, No Logs, and No Job being started.\n",
      "  warnings.warn(\n"
     ]
    }
   ],
   "source": [
    "register_step = model.register(\n",
    "    content_types=[\"text/csv\"],\n",
    "    response_types=[\"text/csv\"],\n",
    "    # inference_instances=[\"ml.t2.medium\", \"ml.m5.xlarge\"],\n",
    "    # transform_instances=[\"ml.m5.xlarge\"],\n",
    "    model_package_group_name=model_package_group_name,\n",
    "    approval_status=model_approval_status,\n",
    ")"
   ]
  },
  {
   "cell_type": "code",
   "execution_count": 13,
   "id": "03d0a02f-6155-4825-9232-ae94a15ae87b",
   "metadata": {},
   "outputs": [],
   "source": [
    "# Define model registration step\n",
    "register_step = ModelStep(name=\"RegisterModel\", step_args=register_step)"
   ]
  },
  {
   "cell_type": "code",
   "execution_count": 14,
   "id": "7d82fd02-743a-4424-bc82-9226f21a36bc",
   "metadata": {},
   "outputs": [],
   "source": [
    "# Training pipeline\n",
    "training_pipeline = Pipeline(\n",
    "    name=\"TrainingPipeline\",\n",
    "    parameters=[input_data_uri, output_data_uri, model_approval_status],\n",
    "    steps=[preprocessing_step, training_step],\n",
    ")"
   ]
  },
  {
   "cell_type": "code",
   "execution_count": 15,
   "id": "fb160b45-fd90-4185-b661-0a2c93c5889a",
   "metadata": {},
   "outputs": [
    {
     "name": "stderr",
     "output_type": "stream",
     "text": [
      "WARNING:sagemaker.workflow.utilities:Popping out 'ProcessingJobName' from the pipeline definition by default since it will be overridden at pipeline execution time. Please utilize the PipelineDefinitionConfig to persist this field in the pipeline definition if desired.\n",
      "WARNING:sagemaker.workflow.utilities:Popping out 'TrainingJobName' from the pipeline definition by default since it will be overridden at pipeline execution time. Please utilize the PipelineDefinitionConfig to persist this field in the pipeline definition if desired.\n",
      "WARNING:sagemaker.workflow.utilities:Popping out 'ProcessingJobName' from the pipeline definition by default since it will be overridden at pipeline execution time. Please utilize the PipelineDefinitionConfig to persist this field in the pipeline definition if desired.\n",
      "WARNING:sagemaker.workflow.utilities:Popping out 'TrainingJobName' from the pipeline definition by default since it will be overridden at pipeline execution time. Please utilize the PipelineDefinitionConfig to persist this field in the pipeline definition if desired.\n"
     ]
    },
    {
     "data": {
      "text/plain": [
       "{'PipelineArn': 'arn:aws:sagemaker:us-east-1:654654222480:pipeline/TrainingPipeline',\n",
       " 'ResponseMetadata': {'RequestId': '61f01436-1c0c-40d9-8f34-81022c01b550',\n",
       "  'HTTPStatusCode': 200,\n",
       "  'HTTPHeaders': {'x-amzn-requestid': '61f01436-1c0c-40d9-8f34-81022c01b550',\n",
       "   'content-type': 'application/x-amz-json-1.1',\n",
       "   'content-length': '84',\n",
       "   'date': 'Fri, 16 Aug 2024 13:26:09 GMT'},\n",
       "  'RetryAttempts': 0}}"
      ]
     },
     "execution_count": 15,
     "metadata": {},
     "output_type": "execute_result"
    }
   ],
   "source": [
    "# Execute pipelines\n",
    "training_pipeline.upsert(role_arn=role)"
   ]
  },
  {
   "cell_type": "code",
   "execution_count": 16,
   "id": "cec0fb7a-c825-4730-959c-1b8b1cdfd4a2",
   "metadata": {},
   "outputs": [
    {
     "data": {
      "text/plain": [
       "_PipelineExecution(arn='arn:aws:sagemaker:us-east-1:654654222480:pipeline/TrainingPipeline/execution/otzemv7eqpyi', sagemaker_session=<sagemaker.session.Session object at 0x7f74c085d960>)"
      ]
     },
     "execution_count": 16,
     "metadata": {},
     "output_type": "execute_result"
    }
   ],
   "source": [
    "# Start pipelines\n",
    "training_pipeline.start()"
   ]
  },
  {
   "cell_type": "code",
   "execution_count": null,
   "id": "45ebe44d-6856-40d5-99a4-bbb3fd4c1c24",
   "metadata": {},
   "outputs": [],
   "source": []
  }
 ],
 "metadata": {
  "kernelspec": {
   "display_name": "conda_pytorch_p310",
   "language": "python",
   "name": "conda_pytorch_p310"
  },
  "language_info": {
   "codemirror_mode": {
    "name": "ipython",
    "version": 3
   },
   "file_extension": ".py",
   "mimetype": "text/x-python",
   "name": "python",
   "nbconvert_exporter": "python",
   "pygments_lexer": "ipython3",
   "version": "3.10.14"
  }
 },
 "nbformat": 4,
 "nbformat_minor": 5
}
