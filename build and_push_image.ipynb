{
 "cells": [
  {
   "cell_type": "code",
   "execution_count": 1,
   "metadata": {
    "tags": []
   },
   "outputs": [
    {
     "name": "stdout",
     "output_type": "stream",
     "text": [
      "Overwriting Dockerfile\n"
     ]
    }
   ],
   "source": [
    "%%writefile Dockerfile\n",
    "\n",
    "FROM python:3.9-slim-buster\n",
    "\n",
    "RUN pip install pandas==2.2.2 scikit-learn==1.4.2 prophet==1.1.5\n",
    "\n",
    "COPY code/preprocess.py /opt/ml/code/preprocess.py\n",
    "COPY code/train.py /opt/ml/code/train.py\n",
    "\n",
    "ENV SAGEMAKER_PROGRAM preprocess.py\n",
    "ENV SAGEMAKER_PROGRAM train.py\n",
    "ENV PYTHONUNBUFFERED=TRUE\n",
    "\n",
    "ENTRYPOINT [\"python3\"]"
   ]
  },
  {
   "cell_type": "code",
   "execution_count": 2,
   "metadata": {
    "tags": []
   },
   "outputs": [],
   "source": [
    "import boto3\n",
    "\n",
    "account_id = boto3.client('sts').get_caller_identity().get('Account')\n",
    "region = boto3.Session().region_name\n",
    "ecr_repository = 'demo_prophet'\n",
    "tag = ':latest'\n",
    "processing_repository_uri = '{}.dkr.ecr.{}.amazonaws.com/{}'.format(account_id, region, ecr_repository + tag)"
   ]
  },
  {
   "cell_type": "code",
   "execution_count": 3,
   "metadata": {
    "tags": []
   },
   "outputs": [
    {
     "name": "stdout",
     "output_type": "stream",
     "text": [
      "Sending build context to Docker daemon  174.1kB\n",
      "Step 1/8 : FROM python:3.9-slim-buster\n",
      " ---> c84dbfe3b8de\n",
      "Step 2/8 : RUN pip install pandas==2.2.2 scikit-learn==1.4.2 prophet==1.1.5\n",
      " ---> Using cache\n",
      " ---> a46aef910c10\n",
      "Step 3/8 : COPY code/preprocess.py /opt/ml/code/preprocess.py\n",
      " ---> 0085b4d348f2\n",
      "Step 4/8 : COPY code/train.py /opt/ml/code/train.py\n",
      " ---> 561835458669\n",
      "Step 5/8 : ENV SAGEMAKER_PROGRAM preprocess.py\n",
      " ---> Running in 593ec15c6d8b\n",
      "Removing intermediate container 593ec15c6d8b\n",
      " ---> 2ecdd4b67660\n",
      "Step 6/8 : ENV SAGEMAKER_PROGRAM train.py\n",
      " ---> Running in 248e4c560c67\n",
      "Removing intermediate container 248e4c560c67\n",
      " ---> 6073a3449ccf\n",
      "Step 7/8 : ENV PYTHONUNBUFFERED=TRUE\n",
      " ---> Running in be4ea78b51d1\n",
      "Removing intermediate container be4ea78b51d1\n",
      " ---> e3054966626c\n",
      "Step 8/8 : ENTRYPOINT [\"python3\"]\n",
      " ---> Running in 6bd41e4ceddb\n",
      "Removing intermediate container 6bd41e4ceddb\n",
      " ---> a2e977f88ecf\n",
      "Successfully built a2e977f88ecf\n",
      "Successfully tagged demo_prophet:latest\n"
     ]
    }
   ],
   "source": [
    "# Create ECR repository and push docker image\n",
    "!docker build -t $ecr_repository ."
   ]
  },
  {
   "cell_type": "code",
   "execution_count": 4,
   "metadata": {
    "tags": []
   },
   "outputs": [
    {
     "name": "stdout",
     "output_type": "stream",
     "text": [
      "WARNING! Your password will be stored unencrypted in /home/ec2-user/.docker/config.json.\n",
      "Configure a credential helper to remove this warning. See\n",
      "https://docs.docker.com/engine/reference/commandline/login/#credentials-store\n",
      "\n",
      "Login Succeeded\n"
     ]
    }
   ],
   "source": [
    "!aws ecr get-login-password --region {region} | docker login --username AWS --password-stdin {account_id}.dkr.ecr.{region}.amazonaws.com"
   ]
  },
  {
   "cell_type": "code",
   "execution_count": 5,
   "metadata": {
    "tags": []
   },
   "outputs": [
    {
     "name": "stdout",
     "output_type": "stream",
     "text": [
      "\n",
      "An error occurred (RepositoryAlreadyExistsException) when calling the CreateRepository operation: The repository with name 'demo_prophet' already exists in the registry with id '654654222480'\n"
     ]
    }
   ],
   "source": [
    "!aws ecr create-repository --repository-name $ecr_repository"
   ]
  },
  {
   "cell_type": "code",
   "execution_count": 6,
   "metadata": {
    "tags": []
   },
   "outputs": [],
   "source": [
    "!docker tag {ecr_repository + tag} $processing_repository_uri"
   ]
  },
  {
   "cell_type": "code",
   "execution_count": 7,
   "metadata": {
    "tags": []
   },
   "outputs": [
    {
     "name": "stdout",
     "output_type": "stream",
     "text": [
      "The push refers to repository [654654222480.dkr.ecr.us-east-1.amazonaws.com/demo_prophet]\n",
      "\n",
      "\u001b[1Bd79d1e09: Preparing \n",
      "\u001b[1B4b1d6eb1: Preparing \n",
      "\u001b[1Bd0cba51b: Preparing \n",
      "\u001b[1Ba27560c1: Preparing \n",
      "\u001b[1B037e08b3: Preparing \n",
      "\u001b[1Beede8d6e: Preparing \n",
      "\u001b[1B55769c5e: Preparing \n",
      "\u001b[8Bd79d1e09: Pushed lready exists \u001b[3A\u001b[2K\u001b[7A\u001b[2K\u001b[8A\u001b[2Klatest: digest: sha256:33671d74386451fe93c1978fd3b644f8cd1e35bf72e0534cbc281b8645046c49 size: 1997\n"
     ]
    }
   ],
   "source": [
    "!docker push $processing_repository_uri"
   ]
  },
  {
   "cell_type": "code",
   "execution_count": null,
   "metadata": {},
   "outputs": [],
   "source": []
  }
 ],
 "metadata": {
  "kernelspec": {
   "display_name": "conda_pytorch_p310",
   "language": "python",
   "name": "conda_pytorch_p310"
  },
  "language_info": {
   "codemirror_mode": {
    "name": "ipython",
    "version": 3
   },
   "file_extension": ".py",
   "mimetype": "text/x-python",
   "name": "python",
   "nbconvert_exporter": "python",
   "pygments_lexer": "ipython3",
   "version": "3.10.14"
  }
 },
 "nbformat": 4,
 "nbformat_minor": 4
}
