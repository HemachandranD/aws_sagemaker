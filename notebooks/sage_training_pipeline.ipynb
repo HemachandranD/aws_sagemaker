{
 "cells": [
  {
   "cell_type": "code",
   "execution_count": 1,
   "id": "fe3ee01b-fa89-4666-a8a1-df7b8bc9c6d8",
   "metadata": {
    "tags": []
   },
   "outputs": [
    {
     "name": "stdout",
     "output_type": "stream",
     "text": [
      "sagemaker.config INFO - Not applying SDK defaults from location: /etc/xdg/sagemaker/config.yaml\n",
      "sagemaker.config INFO - Not applying SDK defaults from location: /home/ec2-user/.config/sagemaker/config.yaml\n"
     ]
    }
   ],
   "source": [
    "import sagemaker\n",
    "import boto3\n",
    "import warnings\n",
    "from sagemaker.inputs import TrainingInput\n",
    "from sagemaker.model import Model\n",
    "from sagemaker.processing import ScriptProcessor\n",
    "from sagemaker.workflow.pipeline import Pipeline\n",
    "from sagemaker.workflow.pipeline_context import PipelineSession\n",
    "from sagemaker.workflow.steps import ProcessingStep, TrainingStep\n",
    "from sagemaker.workflow.model_step import ModelStep\n",
    "from sagemaker.workflow.parameters import ParameterString"
   ]
  },
  {
   "cell_type": "code",
   "execution_count": 2,
   "id": "f5a6a2ff-57c6-45ca-a919-87adf04e8764",
   "metadata": {
    "tags": []
   },
   "outputs": [
    {
     "name": "stderr",
     "output_type": "stream",
     "text": [
      "INFO:botocore.credentials:Found credentials from IAM Role: BaseNotebookInstanceEc2InstanceRole\n",
      "INFO:botocore.credentials:Found credentials from IAM Role: BaseNotebookInstanceEc2InstanceRole\n"
     ]
    }
   ],
   "source": [
    "# Initialize SageMaker session and client\n",
    "sagemaker_session = sagemaker.Session()\n",
    "sm_client = boto3.client(\"sagemaker\")\n",
    "pipeline_session = PipelineSession()\n",
    "role = sagemaker.get_execution_role()  # Replace with your SageMaker execution role\n",
    "warnings.filterwarnings(\"ignore\")"
   ]
  },
  {
   "cell_type": "code",
   "execution_count": 3,
   "id": "48aea13c-ea78-4594-bb26-b6108b5affec",
   "metadata": {
    "tags": []
   },
   "outputs": [],
   "source": [
    "# Define input parameters\n",
    "input_data_uri = ParameterString(\n",
    "    name=\"InputDataUri\", default_value=\"s3://hemz-sagemaker-bucket/input-data/\"\n",
    ")\n",
    "\n",
    "output_data_uri = ParameterString(\n",
    "    name=\"OutputDataUri\", default_value=\"s3://hemz-sagemaker-bucket/output-data/\"\n",
    ")\n",
    "\n",
    "model_approval_status = ParameterString(\n",
    "    name=\"ModelApprovalStatus\", default_value=\"Approved\"\n",
    ")\n",
    "\n",
    "training_image_uri = (\n",
    "    \"654654222480.dkr.ecr.ap-south-1.amazonaws.com/prophet_training:latest\"\n",
    ")\n",
    "\n",
    "model_package_group_name = \"ProphetModelGroup\""
   ]
  },
  {
   "cell_type": "code",
   "execution_count": 4,
   "id": "2b3a6c34-3a72-4905-a486-c6385719cf32",
   "metadata": {
    "tags": []
   },
   "outputs": [],
   "source": [
    "# Define preprocessing step\n",
    "script_processor = ScriptProcessor(\n",
    "    image_uri=training_image_uri,  # Use a custom image with Prophet installed\n",
    "    command=[\"python3\"],\n",
    "    role=role,\n",
    "    sagemaker_session=pipeline_session,\n",
    "    instance_count=1,\n",
    "    instance_type=\"ml.t3.medium\",\n",
    ")"
   ]
  },
  {
   "cell_type": "code",
   "execution_count": 5,
   "id": "ea850f36-16ed-494b-9ea8-45b35086733d",
   "metadata": {
    "tags": []
   },
   "outputs": [],
   "source": [
    "preprocessing_step = ProcessingStep(\n",
    "    name=\"PreprocessData\",\n",
    "    processor=script_processor,\n",
    "    inputs=[\n",
    "        sagemaker.processing.ProcessingInput(\n",
    "            source=input_data_uri, destination=\"/opt/ml/processing/input\"\n",
    "        )\n",
    "    ],\n",
    "    outputs=[\n",
    "        sagemaker.processing.ProcessingOutput(\n",
    "            output_name=\"train\",\n",
    "            destination=f\"{output_data_uri.default_value}train\",\n",
    "            source=\"/opt/ml/processing/output/train\",\n",
    "        )\n",
    "    ],\n",
    "    code=\"code/preprocess.py\",  # Replace with your preprocessing script\n",
    ")"
   ]
  },
  {
   "cell_type": "code",
   "execution_count": 6,
   "id": "a839b4bc-d7ec-465f-bbd7-ee192b2b82b3",
   "metadata": {
    "tags": []
   },
   "outputs": [],
   "source": [
    "# Define the custom estimator for Prophet\n",
    "prophet_estimator = sagemaker.estimator.Estimator(\n",
    "    image_uri=training_image_uri,  # Use a custom image with Prophet installed\n",
    "    role=role,\n",
    "    sagemaker_session=pipeline_session,\n",
    "    instance_count=1,\n",
    "    instance_type=\"ml.m5.large\",\n",
    "    entry_point=\"code/train.py\",\n",
    "    script_mode=True,\n",
    "    output_path=\"s3://hemz-sagemaker-bucket/output-data/model-artifacts/\",\n",
    ")"
   ]
  },
  {
   "cell_type": "code",
   "execution_count": 7,
   "id": "0c364f01-74e3-47b7-943a-09d4b2dbe238",
   "metadata": {
    "tags": []
   },
   "outputs": [],
   "source": [
    "# Define training step\n",
    "training_step = TrainingStep(\n",
    "    name=\"TrainModel\",\n",
    "    estimator=prophet_estimator,\n",
    "    inputs={\n",
    "        \"train\": TrainingInput(\n",
    "            s3_data=preprocessing_step.properties.ProcessingOutputConfig.Outputs[\n",
    "                \"train\"\n",
    "            ].S3Output.S3Uri,\n",
    "            content_type=\"text/csv\",\n",
    "        )\n",
    "    },\n",
    ")"
   ]
  },
  {
   "cell_type": "code",
   "execution_count": 8,
   "id": "aa2a6eac-12a3-4bf2-8e93-139911475da9",
   "metadata": {
    "tags": []
   },
   "outputs": [],
   "source": [
    "model = Model(\n",
    "    image_uri=training_image_uri,\n",
    "    model_data=training_step.properties.ModelArtifacts.S3ModelArtifacts,\n",
    "    sagemaker_session=pipeline_session,\n",
    "    role=role,\n",
    ")"
   ]
  },
  {
   "cell_type": "code",
   "execution_count": 9,
   "id": "bdd371e2-a772-4e8c-b635-c416cf114d5f",
   "metadata": {
    "tags": []
   },
   "outputs": [],
   "source": [
    "register_model_step = model.register(\n",
    "    content_types=[\"text/csv\"],\n",
    "    response_types=[\"text/csv\"],\n",
    "    model_package_group_name=model_package_group_name,\n",
    "    approval_status=model_approval_status,\n",
    ")"
   ]
  },
  {
   "cell_type": "code",
   "execution_count": 10,
   "id": "03d0a02f-6155-4825-9232-ae94a15ae87b",
   "metadata": {
    "tags": []
   },
   "outputs": [],
   "source": [
    "# Define model registration step\n",
    "register_model_step = ModelStep(name=\"RegisterModel\", step_args=register_model_step)"
   ]
  },
  {
   "cell_type": "code",
   "execution_count": 11,
   "id": "7d82fd02-743a-4424-bc82-9226f21a36bc",
   "metadata": {
    "tags": []
   },
   "outputs": [],
   "source": [
    "# Training pipeline\n",
    "training_pipeline = Pipeline(\n",
    "    name=\"TrainingPipeline\",\n",
    "    parameters=[input_data_uri, output_data_uri, model_approval_status],\n",
    "    steps=[preprocessing_step, training_step, register_model_step],\n",
    ")"
   ]
  },
  {
   "cell_type": "code",
   "execution_count": 12,
   "id": "fb160b45-fd90-4185-b661-0a2c93c5889a",
   "metadata": {
    "tags": []
   },
   "outputs": [
    {
     "name": "stderr",
     "output_type": "stream",
     "text": [
      "WARNING:sagemaker.workflow.utilities:Popping out 'ProcessingJobName' from the pipeline definition by default since it will be overridden at pipeline execution time. Please utilize the PipelineDefinitionConfig to persist this field in the pipeline definition if desired.\n",
      "WARNING:sagemaker.workflow.utilities:Popping out 'TrainingJobName' from the pipeline definition by default since it will be overridden at pipeline execution time. Please utilize the PipelineDefinitionConfig to persist this field in the pipeline definition if desired.\n",
      "WARNING:sagemaker.workflow._utils:Popping out 'CertifyForMarketplace' from the pipeline definition since it will be overridden in pipeline execution time.\n",
      "WARNING:sagemaker.workflow.utilities:Popping out 'ModelPackageName' from the pipeline definition by default since it will be overridden at pipeline execution time. Please utilize the PipelineDefinitionConfig to persist this field in the pipeline definition if desired.\n",
      "WARNING:sagemaker.workflow.utilities:Popping out 'ProcessingJobName' from the pipeline definition by default since it will be overridden at pipeline execution time. Please utilize the PipelineDefinitionConfig to persist this field in the pipeline definition if desired.\n",
      "WARNING:sagemaker.workflow.utilities:Popping out 'TrainingJobName' from the pipeline definition by default since it will be overridden at pipeline execution time. Please utilize the PipelineDefinitionConfig to persist this field in the pipeline definition if desired.\n",
      "WARNING:sagemaker.workflow.utilities:Popping out 'ModelPackageName' from the pipeline definition by default since it will be overridden at pipeline execution time. Please utilize the PipelineDefinitionConfig to persist this field in the pipeline definition if desired.\n"
     ]
    },
    {
     "data": {
      "text/plain": [
       "{'PipelineArn': 'arn:aws:sagemaker:ap-south-1:654654222480:pipeline/TrainingPipeline',\n",
       " 'ResponseMetadata': {'RequestId': 'e72484e6-0cf1-43a5-b906-d57683d74fbb',\n",
       "  'HTTPStatusCode': 200,\n",
       "  'HTTPHeaders': {'x-amzn-requestid': 'e72484e6-0cf1-43a5-b906-d57683d74fbb',\n",
       "   'content-type': 'application/x-amz-json-1.1',\n",
       "   'content-length': '85',\n",
       "   'date': 'Sun, 18 Aug 2024 10:15:06 GMT'},\n",
       "  'RetryAttempts': 0}}"
      ]
     },
     "execution_count": 12,
     "metadata": {},
     "output_type": "execute_result"
    }
   ],
   "source": [
    "# Execute pipelines\n",
    "training_pipeline.upsert(role_arn=role)"
   ]
  },
  {
   "cell_type": "code",
   "execution_count": 13,
   "id": "cec0fb7a-c825-4730-959c-1b8b1cdfd4a2",
   "metadata": {
    "tags": []
   },
   "outputs": [],
   "source": [
    "# Start pipelines\n",
    "execution = training_pipeline.start()"
   ]
  },
  {
   "cell_type": "code",
   "execution_count": 14,
   "id": "40a891e4-3d0c-4bb1-a724-337241f76af4",
   "metadata": {
    "tags": []
   },
   "outputs": [],
   "source": [
    "execution.wait()"
   ]
  },
  {
   "cell_type": "code",
   "execution_count": null,
   "id": "e28d3880-b544-469d-9259-65d71934bb59",
   "metadata": {
    "tags": []
   },
   "outputs": [],
   "source": []
  }
 ],
 "metadata": {
  "kernelspec": {
   "display_name": "conda_pytorch_p310",
   "language": "python",
   "name": "conda_pytorch_p310"
  },
  "language_info": {
   "codemirror_mode": {
    "name": "ipython",
    "version": 3
   },
   "file_extension": ".py",
   "mimetype": "text/x-python",
   "name": "python",
   "nbconvert_exporter": "python",
   "pygments_lexer": "ipython3",
   "version": "3.10.14"
  }
 },
 "nbformat": 4,
 "nbformat_minor": 5
}
