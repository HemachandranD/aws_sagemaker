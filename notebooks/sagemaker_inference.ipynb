{
 "cells": [
  {
   "cell_type": "code",
   "execution_count": 104,
   "id": "68d06a59-eb91-43c7-8076-7e210a1fa4e8",
   "metadata": {
    "tags": []
   },
   "outputs": [],
   "source": [
    "import json\n",
    "import boto3\n",
    "import pandas as pd\n",
    "\n",
    "client = boto3.client(\"sagemaker-runtime\")\n",
    "\n",
    "df = pd.read_csv(\"synthetic_data.csv\")\n",
    "# Convert DataFrame to a list of dictionaries\n",
    "realtime_data = df.iloc[:2, :].to_dict(orient=\"records\")\n",
    "\n",
    "# Convert to JSON\n",
    "json_data = json.dumps(realtime_data)\n",
    "\n",
    "response = client.invoke_endpoint(\n",
    "    EndpointName=\"prophet-endpoint\",\n",
    "    ContentType=\"application/json\",\n",
    "    Body=json.dumps(json_data),\n",
    ")\n",
    "\n",
    "response = response[\"Body\"].read().decode()\n",
    "# Clean the JSON string by removing extra escape characters\n",
    "cleaned_response = response.replace('\\\\\"', '\"').strip('\"\\n')"
   ]
  },
  {
   "cell_type": "code",
   "execution_count": 107,
   "id": "b5eb9937-2e10-4d49-acea-3bacacd76d5e",
   "metadata": {
    "tags": []
   },
   "outputs": [
    {
     "data": {
      "text/html": [
       "<div>\n",
       "<style scoped>\n",
       "    .dataframe tbody tr th:only-of-type {\n",
       "        vertical-align: middle;\n",
       "    }\n",
       "\n",
       "    .dataframe tbody tr th {\n",
       "        vertical-align: top;\n",
       "    }\n",
       "\n",
       "    .dataframe thead th {\n",
       "        text-align: right;\n",
       "    }\n",
       "</style>\n",
       "<table border=\"1\" class=\"dataframe\">\n",
       "  <thead>\n",
       "    <tr style=\"text-align: right;\">\n",
       "      <th></th>\n",
       "      <th>ds</th>\n",
       "      <th>yhat</th>\n",
       "      <th>yhat_lower</th>\n",
       "      <th>yhat_upper</th>\n",
       "    </tr>\n",
       "  </thead>\n",
       "  <tbody>\n",
       "    <tr>\n",
       "      <th>0</th>\n",
       "      <td>1672531200000</td>\n",
       "      <td>103.320066</td>\n",
       "      <td>100.777555</td>\n",
       "      <td>105.879221</td>\n",
       "    </tr>\n",
       "    <tr>\n",
       "      <th>1</th>\n",
       "      <td>1672617600000</td>\n",
       "      <td>103.219479</td>\n",
       "      <td>100.583058</td>\n",
       "      <td>105.645205</td>\n",
       "    </tr>\n",
       "  </tbody>\n",
       "</table>\n",
       "</div>"
      ],
      "text/plain": [
       "              ds        yhat  yhat_lower  yhat_upper\n",
       "0  1672531200000  103.320066  100.777555  105.879221\n",
       "1  1672617600000  103.219479  100.583058  105.645205"
      ]
     },
     "execution_count": 107,
     "metadata": {},
     "output_type": "execute_result"
    }
   ],
   "source": [
    "# Convert to DataFrame\n",
    "prediction_df = pd.DataFrame(json.loads(cleaned_response))\n",
    "prediction_df"
   ]
  },
  {
   "cell_type": "code",
   "execution_count": null,
   "id": "93f1f713-5eab-4c48-9122-276027249668",
   "metadata": {},
   "outputs": [],
   "source": []
  }
 ],
 "metadata": {
  "kernelspec": {
   "display_name": "conda_python3",
   "language": "python",
   "name": "conda_python3"
  },
  "language_info": {
   "codemirror_mode": {
    "name": "ipython",
    "version": 3
   },
   "file_extension": ".py",
   "mimetype": "text/x-python",
   "name": "python",
   "nbconvert_exporter": "python",
   "pygments_lexer": "ipython3",
   "version": "3.10.14"
  }
 },
 "nbformat": 4,
 "nbformat_minor": 5
}
