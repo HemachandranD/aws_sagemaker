{
 "cells": [
  {
   "cell_type": "code",
   "execution_count": 1,
   "id": "1230b0bb-0955-435b-b732-18531a286c84",
   "metadata": {
    "tags": []
   },
   "outputs": [
    {
     "name": "stdout",
     "output_type": "stream",
     "text": [
      "sagemaker.config INFO - Not applying SDK defaults from location: /etc/xdg/sagemaker/config.yaml\n",
      "sagemaker.config INFO - Not applying SDK defaults from location: /home/ec2-user/.config/sagemaker/config.yaml\n"
     ]
    }
   ],
   "source": [
    "import sagemaker\n",
    "import boto3\n",
    "import warnings\n",
    "from time import gmtime, strftime"
   ]
  },
  {
   "cell_type": "code",
   "execution_count": 2,
   "id": "83fb5c3a-fb89-46eb-80ec-c5f37c1a2215",
   "metadata": {
    "tags": []
   },
   "outputs": [],
   "source": [
    "# Initialize SageMaker session and client\n",
    "sagemaker_session = sagemaker.Session()\n",
    "sm_client = boto3.client('sagemaker')\n",
    "role = sagemaker.get_execution_role()  # Replace with your SageMaker execution role\n",
    "warnings.filterwarnings(\"ignore\")"
   ]
  },
  {
   "cell_type": "code",
   "execution_count": 3,
   "id": "abd14087-442e-450d-a183-67aca614d3f8",
   "metadata": {
    "tags": []
   },
   "outputs": [],
   "source": [
    "sagemaker_bucket_name = \"hemz-sagemaker-bucket\"\n",
    "\n",
    "inference_image_uri = \"654654222480.dkr.ecr.ap-south-1.amazonaws.com/prophet_infernece:latest\"\n",
    "\n",
    "model_name = \"Prophet-serverless-model\" + \"-\" + strftime(\"%Y%m%d%H%M%S\", gmtime())\n",
    "\n",
    "endpoint_config_name = \"prophet-endpoint-config\"\n",
    "\n",
    "endpoint_name = \"prophet-endpoint\""
   ]
  },
  {
   "cell_type": "code",
   "execution_count": 4,
   "id": "7b020d85-15f6-467f-85d3-1c94f1a20a55",
   "metadata": {
    "tags": []
   },
   "outputs": [],
   "source": [
    "# List training jobs\n",
    "response = sm_client.list_training_jobs(\n",
    "    SortBy='CreationTime',\n",
    "    SortOrder='Descending'\n",
    ")\n",
    "\n",
    "# Print training jobs to find the relevant one\n",
    "latest_training_job_name = response['TrainingJobSummaries'][0]['TrainingJobName'] \\\n",
    "    if response['TrainingJobSummaries'][0]['TrainingJobStatus'] == 'Completed' \\\n",
    "    else print(\"The latest training Job is not successful\")"
   ]
  },
  {
   "cell_type": "code",
   "execution_count": 5,
   "id": "c649d761-3caa-47f2-b3cd-8ef9c0e8ad65",
   "metadata": {
    "tags": []
   },
   "outputs": [
    {
     "data": {
      "text/plain": [
       "{'ModelArn': 'arn:aws:sagemaker:ap-south-1:654654222480:model/Prophet-serverless-model-20240818124810',\n",
       " 'ResponseMetadata': {'RequestId': '8f166f1c-605b-47ed-83ab-dde9faaf4eca',\n",
       "  'HTTPStatusCode': 200,\n",
       "  'HTTPHeaders': {'x-amzn-requestid': '8f166f1c-605b-47ed-83ab-dde9faaf4eca',\n",
       "   'content-type': 'application/x-amz-json-1.1',\n",
       "   'content-length': '102',\n",
       "   'date': 'Sun, 18 Aug 2024 12:48:10 GMT'},\n",
       "  'RetryAttempts': 0}}"
      ]
     },
     "execution_count": 5,
     "metadata": {},
     "output_type": "execute_result"
    }
   ],
   "source": [
    "# Create a model for endpoint\n",
    "sm_client.create_model(\n",
    "    ModelName=model_name,\n",
    "    ExecutionRoleArn=role,\n",
    "    Containers=[{\n",
    "        \"Image\": inference_image_uri,\n",
    "        \"Mode\": \"SingleModel\",\n",
    "        \"ModelDataUrl\": f's3://{sagemaker_bucket_name}/output-data/model-artifacts/{latest_training_job_name}/output/model.tar.gz'\n",
    "    }]\n",
    ")"
   ]
  },
  {
   "cell_type": "code",
   "execution_count": 6,
   "id": "a62ef20d-7947-45fd-803e-a435053efba4",
   "metadata": {},
   "outputs": [],
   "source": [
    "# Create endpoint configuration\n",
    "endpoint_config = sm_client.create_endpoint_config(\n",
    "   EndpointConfigName=\"prophet-endpoint-config\",\n",
    "   ProductionVariants=[\n",
    "        {\n",
    "            \"ModelName\": model_name,\n",
    "            \"VariantName\": \"AllTraffic\",\n",
    "            \"ServerlessConfig\": {\n",
    "                \"MemorySizeInMB\": 2048,\n",
    "                \"MaxConcurrency\": 1,\n",
    "                \"ProvisionedConcurrency\": 1,\n",
    "            }\n",
    "        } \n",
    "    ]\n",
    ")"
   ]
  },
  {
   "cell_type": "code",
   "execution_count": 7,
   "id": "a5fb702a-4c35-4ac4-ae5b-92c47d5fc469",
   "metadata": {},
   "outputs": [
    {
     "data": {
      "text/plain": [
       "{'EndpointArn': 'arn:aws:sagemaker:ap-south-1:654654222480:endpoint/prophet-endpoint',\n",
       " 'ResponseMetadata': {'RequestId': '773a62ab-8654-45ca-8eed-02c145200ef8',\n",
       "  'HTTPStatusCode': 200,\n",
       "  'HTTPHeaders': {'x-amzn-requestid': '773a62ab-8654-45ca-8eed-02c145200ef8',\n",
       "   'content-type': 'application/x-amz-json-1.1',\n",
       "   'content-length': '85',\n",
       "   'date': 'Sun, 18 Aug 2024 12:48:10 GMT'},\n",
       "  'RetryAttempts': 0}}"
      ]
     },
     "execution_count": 7,
     "metadata": {},
     "output_type": "execute_result"
    }
   ],
   "source": [
    "# Create the endpoint\n",
    "sm_client.create_endpoint(\n",
    "    EndpointName=endpoint_name,\n",
    "    EndpointConfigName=endpoint_config_name\n",
    ")"
   ]
  },
  {
   "cell_type": "code",
   "execution_count": null,
   "id": "f09077f4-4412-4461-928a-1fdef0e98714",
   "metadata": {},
   "outputs": [],
   "source": []
  }
 ],
 "metadata": {
  "kernelspec": {
   "display_name": "conda_python3",
   "language": "python",
   "name": "conda_python3"
  },
  "language_info": {
   "codemirror_mode": {
    "name": "ipython",
    "version": 3
   },
   "file_extension": ".py",
   "mimetype": "text/x-python",
   "name": "python",
   "nbconvert_exporter": "python",
   "pygments_lexer": "ipython3",
   "version": "3.10.14"
  }
 },
 "nbformat": 4,
 "nbformat_minor": 5
}
