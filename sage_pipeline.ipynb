{
 "cells": [
  {
   "cell_type": "code",
   "execution_count": 24,
   "id": "fe3ee01b-fa89-4666-a8a1-df7b8bc9c6d8",
   "metadata": {
    "tags": []
   },
   "outputs": [],
   "source": [
    "import sagemaker\n",
    "import boto3\n",
    "from sagemaker.inputs import TrainingInput\n",
    "from sagemaker.model import Model\n",
    "from sagemaker.processing import ScriptProcessor\n",
    "from sagemaker.workflow.pipeline import Pipeline\n",
    "from sagemaker.workflow.pipeline_context import PipelineSession\n",
    "from sagemaker.workflow.steps import ProcessingStep, TrainingStep\n",
    "from sagemaker.model import Model\n",
    "from sagemaker.workflow.model_step import ModelStep\n",
    "from sagemaker.workflow.parameters import ParameterString"
   ]
  },
  {
   "cell_type": "code",
   "execution_count": 2,
   "id": "f5a6a2ff-57c6-45ca-a919-87adf04e8764",
   "metadata": {
    "tags": []
   },
   "outputs": [
    {
     "name": "stderr",
     "output_type": "stream",
     "text": [
      "INFO:botocore.credentials:Found credentials from IAM Role: BaseNotebookInstanceEc2InstanceRole\n",
      "INFO:botocore.credentials:Found credentials from IAM Role: BaseNotebookInstanceEc2InstanceRole\n"
     ]
    }
   ],
   "source": [
    "# Initialize SageMaker session and client\n",
    "sagemaker_session = sagemaker.Session()\n",
    "sm_client = boto3.client('sagemaker')\n",
    "pipeline_session = PipelineSession()\n",
    "role = sagemaker.get_execution_role()  # Replace with your SageMaker execution role"
   ]
  },
  {
   "cell_type": "code",
   "execution_count": 51,
   "id": "48aea13c-ea78-4594-bb26-b6108b5affec",
   "metadata": {
    "tags": []
   },
   "outputs": [],
   "source": [
    "# Define input parameters\n",
    "input_data_uri = ParameterString(\n",
    "    name=\"InputDataUri\",\n",
    "    default_value=\"s3://hemz-sagemaker-bucket/input-data/\"\n",
    ")\n",
    "\n",
    "output_data_uri = ParameterString(\n",
    "    name=\"OutputDataUri\",\n",
    "    default_value=\"s3://hemz-sagemaker-bucket/output-data/\"\n",
    ")\n",
    "\n",
    "model_approval_status = ParameterString(\n",
    "    name=\"ModelApprovalStatus\",\n",
    "    default_value=\"Approved\"\n",
    ")\n",
    "\n",
    "custom_image_uri = \"654654222480.dkr.ecr.ap-south-1.amazonaws.com/demo_prophet:latest\"\n",
    "\n",
    "model_package_group_name = \"ProphetModelGroup\"\n",
    "\n",
    "endpoint_config_name = \"prophet-endpoint-config\"\n",
    "\n",
    "endpoint_name = \"prophet-endpoint\""
   ]
  },
  {
   "cell_type": "code",
   "execution_count": 4,
   "id": "2b3a6c34-3a72-4905-a486-c6385719cf32",
   "metadata": {
    "tags": []
   },
   "outputs": [],
   "source": [
    "# Define preprocessing step\n",
    "script_processor = ScriptProcessor(\n",
    "    image_uri=custom_image_uri,  # Use a custom image with Prophet installed\n",
    "    command=[\"python3\"],\n",
    "    role=role,\n",
    "    sagemaker_session=pipeline_session,\n",
    "    instance_count=1,\n",
    "    instance_type=\"ml.t3.medium\"\n",
    ")"
   ]
  },
  {
   "cell_type": "code",
   "execution_count": 5,
   "id": "ea850f36-16ed-494b-9ea8-45b35086733d",
   "metadata": {
    "tags": []
   },
   "outputs": [],
   "source": [
    "preprocessing_step = ProcessingStep(\n",
    "    name=\"PreprocessData\",\n",
    "    processor=script_processor,\n",
    "    inputs=[sagemaker.processing.ProcessingInput(source=input_data_uri, destination=\"/opt/ml/processing/input\")],\n",
    "    outputs=[sagemaker.processing.ProcessingOutput(output_name=\"train\", destination=f\"{output_data_uri.default_value}train\", source=\"/opt/ml/processing/output/train\")],\n",
    "    code=\"code/preprocess.py\"  # Replace with your preprocessing script\n",
    ")"
   ]
  },
  {
   "cell_type": "code",
   "execution_count": 6,
   "id": "a839b4bc-d7ec-465f-bbd7-ee192b2b82b3",
   "metadata": {
    "tags": []
   },
   "outputs": [],
   "source": [
    "# Define the custom estimator for Prophet\n",
    "prophet_estimator = sagemaker.estimator.Estimator(\n",
    "    image_uri=custom_image_uri,  # Use a custom image with Prophet installed\n",
    "    role=role,\n",
    "    sagemaker_session=pipeline_session,\n",
    "    instance_count=1,\n",
    "    instance_type=\"ml.m5.large\",\n",
    "    entry_point='code/train.py',\n",
    "    script_mode=True,\n",
    "    output_path=\"s3://hemz-sagemaker-bucket/output-data/model-artifacts/\"\n",
    ")"
   ]
  },
  {
   "cell_type": "code",
   "execution_count": 7,
   "id": "0c364f01-74e3-47b7-943a-09d4b2dbe238",
   "metadata": {
    "tags": []
   },
   "outputs": [],
   "source": [
    "# Define training step\n",
    "training_step = TrainingStep(\n",
    "    name=\"TrainModel\",\n",
    "    estimator=prophet_estimator,\n",
    "    inputs={\n",
    "        \"train\": TrainingInput(s3_data=preprocessing_step.properties.ProcessingOutputConfig.Outputs[\"train\"].S3Output.S3Uri, content_type=\"text/csv\")\n",
    "    }\n",
    ")"
   ]
  },
  {
   "cell_type": "code",
   "execution_count": 30,
   "id": "aa2a6eac-12a3-4bf2-8e93-139911475da9",
   "metadata": {
    "tags": []
   },
   "outputs": [],
   "source": [
    "model = Model(\n",
    "    image_uri=custom_image_uri,\n",
    "    model_data=training_step.properties.ModelArtifacts.S3ModelArtifacts,\n",
    "    sagemaker_session=pipeline_session,\n",
    "    role=role,\n",
    ")"
   ]
  },
  {
   "cell_type": "code",
   "execution_count": 9,
   "id": "bdd371e2-a772-4e8c-b635-c416cf114d5f",
   "metadata": {
    "tags": []
   },
   "outputs": [
    {
     "name": "stderr",
     "output_type": "stream",
     "text": [
      "/home/ec2-user/anaconda3/envs/pytorch_p310/lib/python3.10/site-packages/sagemaker/workflow/pipeline_context.py:332: UserWarning: Running within a PipelineSession, there will be No Wait, No Logs, and No Job being started.\n",
      "  warnings.warn(\n"
     ]
    }
   ],
   "source": [
    "register_model_step = model.register(\n",
    "    content_types=[\"text/csv\"],\n",
    "    response_types=[\"text/csv\"],\n",
    "    inference_instances=[\"ml.t2.medium\", \"ml.m5.xlarge\"],\n",
    "    transform_instances=[\"ml.m5.xlarge\"],\n",
    "    model_package_group_name=model_package_group_name,\n",
    "    approval_status=model_approval_status,\n",
    ")"
   ]
  },
  {
   "cell_type": "code",
   "execution_count": 10,
   "id": "03d0a02f-6155-4825-9232-ae94a15ae87b",
   "metadata": {
    "tags": []
   },
   "outputs": [],
   "source": [
    "# Define model registration step\n",
    "register_model_step = ModelStep(name=\"RegisterModel\", step_args=register_model_step)"
   ]
  },
  {
   "cell_type": "code",
   "execution_count": 35,
   "id": "161212ce-f8dc-4860-9ce2-b04ade9c0790",
   "metadata": {
    "tags": []
   },
   "outputs": [],
   "source": [
    "# # Define create model step (https://docs.aws.amazon.com/sagemaker/latest/dg/build-and-manage-steps.html#step-type-model)\n",
    "# model_create_step = ModelStep(\n",
    "#    name=\"CreateModel\",\n",
    "#    step_args=model.create(instance_type=\"ml.m5.xlarge\"),\n",
    "# )"
   ]
  },
  {
   "cell_type": "code",
   "execution_count": 14,
   "id": "7d82fd02-743a-4424-bc82-9226f21a36bc",
   "metadata": {
    "tags": []
   },
   "outputs": [],
   "source": [
    "# Training pipeline\n",
    "training_pipeline = Pipeline(\n",
    "    name=\"TrainingPipeline\",\n",
    "    parameters=[input_data_uri, output_data_uri, model_approval_status],\n",
    "    steps=[preprocessing_step, training_step, register_model_step],\n",
    ")"
   ]
  },
  {
   "cell_type": "code",
   "execution_count": 16,
   "id": "fb160b45-fd90-4185-b661-0a2c93c5889a",
   "metadata": {
    "tags": []
   },
   "outputs": [
    {
     "name": "stderr",
     "output_type": "stream",
     "text": [
      "WARNING:sagemaker.workflow.utilities:Popping out 'ProcessingJobName' from the pipeline definition by default since it will be overridden at pipeline execution time. Please utilize the PipelineDefinitionConfig to persist this field in the pipeline definition if desired.\n",
      "WARNING:sagemaker.workflow.utilities:Popping out 'TrainingJobName' from the pipeline definition by default since it will be overridden at pipeline execution time. Please utilize the PipelineDefinitionConfig to persist this field in the pipeline definition if desired.\n",
      "WARNING:sagemaker.workflow._utils:Popping out 'CertifyForMarketplace' from the pipeline definition since it will be overridden in pipeline execution time.\n",
      "WARNING:sagemaker.workflow.utilities:Popping out 'ModelPackageName' from the pipeline definition by default since it will be overridden at pipeline execution time. Please utilize the PipelineDefinitionConfig to persist this field in the pipeline definition if desired.\n",
      "WARNING:sagemaker.workflow.utilities:Popping out 'ModelName' from the pipeline definition by default since it will be overridden at pipeline execution time. Please utilize the PipelineDefinitionConfig to persist this field in the pipeline definition if desired.\n",
      "WARNING:sagemaker.workflow.utilities:Popping out 'ProcessingJobName' from the pipeline definition by default since it will be overridden at pipeline execution time. Please utilize the PipelineDefinitionConfig to persist this field in the pipeline definition if desired.\n",
      "WARNING:sagemaker.workflow.utilities:Popping out 'TrainingJobName' from the pipeline definition by default since it will be overridden at pipeline execution time. Please utilize the PipelineDefinitionConfig to persist this field in the pipeline definition if desired.\n",
      "WARNING:sagemaker.workflow.utilities:Popping out 'ModelPackageName' from the pipeline definition by default since it will be overridden at pipeline execution time. Please utilize the PipelineDefinitionConfig to persist this field in the pipeline definition if desired.\n",
      "WARNING:sagemaker.workflow.utilities:Popping out 'ModelName' from the pipeline definition by default since it will be overridden at pipeline execution time. Please utilize the PipelineDefinitionConfig to persist this field in the pipeline definition if desired.\n"
     ]
    },
    {
     "data": {
      "text/plain": [
       "{'PipelineArn': 'arn:aws:sagemaker:ap-south-1:654654222480:pipeline/TrainingPipeline',\n",
       " 'ResponseMetadata': {'RequestId': '5de0e397-eee8-4fd3-b141-f6940e3dc588',\n",
       "  'HTTPStatusCode': 200,\n",
       "  'HTTPHeaders': {'x-amzn-requestid': '5de0e397-eee8-4fd3-b141-f6940e3dc588',\n",
       "   'content-type': 'application/x-amz-json-1.1',\n",
       "   'content-length': '85',\n",
       "   'date': 'Sat, 17 Aug 2024 16:19:36 GMT'},\n",
       "  'RetryAttempts': 0}}"
      ]
     },
     "execution_count": 16,
     "metadata": {},
     "output_type": "execute_result"
    }
   ],
   "source": [
    "# Execute pipelines\n",
    "training_pipeline.upsert(role_arn=role)"
   ]
  },
  {
   "cell_type": "code",
   "execution_count": 17,
   "id": "cec0fb7a-c825-4730-959c-1b8b1cdfd4a2",
   "metadata": {
    "tags": []
   },
   "outputs": [
    {
     "data": {
      "text/plain": [
       "_PipelineExecution(arn='arn:aws:sagemaker:ap-south-1:654654222480:pipeline/TrainingPipeline/execution/a267zynpnsct', sagemaker_session=<sagemaker.session.Session object at 0x7fa40c510970>)"
      ]
     },
     "execution_count": 17,
     "metadata": {},
     "output_type": "execute_result"
    }
   ],
   "source": [
    "# Start pipelines\n",
    "execution = training_pipeline.start()"
   ]
  },
  {
   "cell_type": "code",
   "execution_count": 56,
   "id": "38491be9-1607-4be3-aaec-bc373dc76f32",
   "metadata": {
    "tags": []
   },
   "outputs": [
    {
     "data": {
      "text/plain": [
       "{'PipelineArn': 'arn:aws:sagemaker:ap-south-1:654654222480:pipeline/TrainingPipeline',\n",
       " 'PipelineName': 'TrainingPipeline',\n",
       " 'PipelineDisplayName': 'TrainingPipeline',\n",
       " 'PipelineDefinition': '{\"Version\": \"2020-12-01\", \"Metadata\": {}, \"Parameters\": [{\"Name\": \"InputDataUri\", \"Type\": \"String\", \"DefaultValue\": \"s3://hemz-sagemaker-bucket/input-data/\"}, {\"Name\": \"OutputDataUri\", \"Type\": \"String\", \"DefaultValue\": \"s3://hemz-sagemaker-bucket/output-data/\"}, {\"Name\": \"ModelApprovalStatus\", \"Type\": \"String\", \"DefaultValue\": \"Approved\"}], \"PipelineExperimentConfig\": {\"ExperimentName\": {\"Get\": \"Execution.PipelineName\"}, \"TrialName\": {\"Get\": \"Execution.PipelineExecutionId\"}}, \"Steps\": [{\"Name\": \"PreprocessData\", \"Type\": \"Processing\", \"Arguments\": {\"ProcessingResources\": {\"ClusterConfig\": {\"InstanceType\": \"ml.t3.medium\", \"InstanceCount\": 1, \"VolumeSizeInGB\": 30}}, \"AppSpecification\": {\"ImageUri\": \"654654222480.dkr.ecr.ap-south-1.amazonaws.com/demo_prophet:latest\", \"ContainerEntrypoint\": [\"python3\", \"/opt/ml/processing/input/code/preprocess.py\"]}, \"RoleArn\": \"arn:aws:iam::654654222480:role/service-role/AmazonSageMakerServiceCatalogProductsUseRole\", \"ProcessingInputs\": [{\"InputName\": \"input-1\", \"AppManaged\": false, \"S3Input\": {\"S3Uri\": {\"Get\": \"Parameters.InputDataUri\"}, \"LocalPath\": \"/opt/ml/processing/input\", \"S3DataType\": \"S3Prefix\", \"S3InputMode\": \"File\", \"S3DataDistributionType\": \"FullyReplicated\", \"S3CompressionType\": \"None\"}}, {\"InputName\": \"code\", \"AppManaged\": false, \"S3Input\": {\"S3Uri\": \"s3://sagemaker-ap-south-1-654654222480/PreprocessData-f7eef07f499dd4a2b2ae6112c7434035/input/code/preprocess.py\", \"LocalPath\": \"/opt/ml/processing/input/code\", \"S3DataType\": \"S3Prefix\", \"S3InputMode\": \"File\", \"S3DataDistributionType\": \"FullyReplicated\", \"S3CompressionType\": \"None\"}}], \"ProcessingOutputConfig\": {\"Outputs\": [{\"OutputName\": \"train\", \"AppManaged\": false, \"S3Output\": {\"S3Uri\": \"s3://hemz-sagemaker-bucket/output-data/train\", \"LocalPath\": \"/opt/ml/processing/output/train\", \"S3UploadMode\": \"EndOfJob\"}}]}}}, {\"Name\": \"TrainModel\", \"Type\": \"Training\", \"Arguments\": {\"AlgorithmSpecification\": {\"TrainingInputMode\": \"File\", \"TrainingImage\": \"654654222480.dkr.ecr.ap-south-1.amazonaws.com/demo_prophet:latest\"}, \"OutputDataConfig\": {\"S3OutputPath\": \"s3://hemz-sagemaker-bucket/output-data/model-artifacts/\"}, \"StoppingCondition\": {\"MaxRuntimeInSeconds\": 86400}, \"ResourceConfig\": {\"VolumeSizeInGB\": 30, \"InstanceCount\": 1, \"InstanceType\": \"ml.m5.large\"}, \"RoleArn\": \"arn:aws:iam::654654222480:role/service-role/AmazonSageMakerServiceCatalogProductsUseRole\", \"InputDataConfig\": [{\"DataSource\": {\"S3DataSource\": {\"S3DataType\": \"S3Prefix\", \"S3Uri\": {\"Get\": \"Steps.PreprocessData.ProcessingOutputConfig.Outputs[\\'train\\'].S3Output.S3Uri\"}, \"S3DataDistributionType\": \"FullyReplicated\"}}, \"ContentType\": \"text/csv\", \"ChannelName\": \"train\"}], \"HyperParameters\": {\"sagemaker_submit_directory\": \"\\\\\"s3://hemz-sagemaker-bucket/TrainModel-932acbd673be83185943fe2e144f1da9/source/sourcedir.tar.gz\\\\\"\", \"sagemaker_program\": \"\\\\\"train.py\\\\\"\", \"sagemaker_container_log_level\": \"20\", \"sagemaker_region\": \"\\\\\"ap-south-1\\\\\"\"}, \"DebugHookConfig\": {\"S3OutputPath\": \"s3://hemz-sagemaker-bucket/output-data/model-artifacts/\", \"CollectionConfigurations\": []}, \"ProfilerConfig\": {\"S3OutputPath\": \"s3://hemz-sagemaker-bucket/output-data/model-artifacts/\", \"DisableProfiler\": false}}}, {\"Name\": \"RegisterModel-RegisterModel\", \"Type\": \"RegisterModel\", \"Arguments\": {\"ModelPackageGroupName\": \"ProphetModelGroup\", \"InferenceSpecification\": {\"Containers\": [{\"Image\": \"654654222480.dkr.ecr.ap-south-1.amazonaws.com/demo_prophet:latest\", \"Environment\": {}, \"ModelDataUrl\": {\"Get\": \"Steps.TrainModel.ModelArtifacts.S3ModelArtifacts\"}}], \"SupportedContentTypes\": [\"text/csv\"], \"SupportedResponseMIMETypes\": [\"text/csv\"], \"SupportedRealtimeInferenceInstanceTypes\": [\"ml.t2.medium\", \"ml.m5.xlarge\"], \"SupportedTransformInstanceTypes\": [\"ml.m5.xlarge\"]}, \"ModelApprovalStatus\": {\"Get\": \"Parameters.ModelApprovalStatus\"}, \"SkipModelValidation\": \"None\"}}, {\"Name\": \"CreateModel-CreateModel\", \"Type\": \"Model\", \"Arguments\": {\"ExecutionRoleArn\": \"arn:aws:iam::654654222480:role/service-role/AmazonSageMakerServiceCatalogProductsUseRole\", \"PrimaryContainer\": {\"Image\": \"654654222480.dkr.ecr.ap-south-1.amazonaws.com/demo_prophet:latest\", \"Environment\": {}, \"ModelDataUrl\": {\"Get\": \"Steps.TrainModel.ModelArtifacts.S3ModelArtifacts\"}}}}]}',\n",
       " 'RoleArn': 'arn:aws:iam::654654222480:role/service-role/AmazonSageMakerServiceCatalogProductsUseRole',\n",
       " 'PipelineStatus': 'Active',\n",
       " 'CreationTime': datetime.datetime(2024, 8, 17, 6, 0, 45, 457000, tzinfo=tzlocal()),\n",
       " 'LastModifiedTime': datetime.datetime(2024, 8, 17, 16, 30, 26, 712000, tzinfo=tzlocal()),\n",
       " 'CreatedBy': {'IamIdentity': {'Arn': 'arn:aws:sts::654654222480:assumed-role/AmazonSageMakerServiceCatalogProductsUseRole/SageMaker',\n",
       "   'PrincipalId': 'AROAZQ3DOWCIDNSCPXOW3:SageMaker'}},\n",
       " 'LastModifiedBy': {'IamIdentity': {'Arn': 'arn:aws:sts::654654222480:assumed-role/AmazonSageMakerServiceCatalogProductsUseRole/SageMaker',\n",
       "   'PrincipalId': 'AROAZQ3DOWCIJO6ZNC7P6:SageMaker'}},\n",
       " 'ResponseMetadata': {'RequestId': 'ed819499-bc8e-4ef9-9325-fbda4d8241f8',\n",
       "  'HTTPStatusCode': 200,\n",
       "  'HTTPHeaders': {'x-amzn-requestid': 'ed819499-bc8e-4ef9-9325-fbda4d8241f8',\n",
       "   'content-type': 'application/x-amz-json-1.1',\n",
       "   'content-length': '5350',\n",
       "   'date': 'Sat, 17 Aug 2024 18:18:09 GMT'},\n",
       "  'RetryAttempts': 0}}"
      ]
     },
     "execution_count": 56,
     "metadata": {},
     "output_type": "execute_result"
    }
   ],
   "source": [
    "execution.describe()"
   ]
  },
  {
   "cell_type": "code",
   "execution_count": null,
   "id": "0dbcbd49-166c-4413-b660-8b7ee470babb",
   "metadata": {},
   "outputs": [],
   "source": [
    "execution.wait()"
   ]
  },
  {
   "cell_type": "code",
   "execution_count": 62,
   "id": "c49c8770-d772-4b19-8c81-f459597a9c58",
   "metadata": {
    "tags": []
   },
   "outputs": [],
   "source": [
    "from sagemaker.workflow.functions import Join"
   ]
  },
  {
   "cell_type": "code",
   "execution_count": 65,
   "id": "88de3829-3453-43ec-94ec-9e636ed96e11",
   "metadata": {
    "tags": []
   },
   "outputs": [],
   "source": [
    "destination = Join(on = '/', values = [output_data_uri, training_step.properties.ModelArtifacts.S3ModelArtifacts])"
   ]
  },
  {
   "cell_type": "code",
   "execution_count": 66,
   "id": "d60a5e6a-f6e7-4f7c-8fff-29fad843fcbf",
   "metadata": {
    "tags": []
   },
   "outputs": [
    {
     "data": {
      "text/plain": [
       "Join(on='/', values=[ParameterString(name='OutputDataUri', parameter_type=<ParameterTypeEnum.STRING: 'String'>, default_value='s3://hemz-sagemaker-bucket/output-data/'), {'_step': <sagemaker.workflow.steps.TrainingStep object at 0x7fa40c6e9030>, 'step_name': 'TrainModel', 'path': 'ModelArtifacts.S3ModelArtifacts', '_shape_names': ['S3Uri'], '__str__': 'S3Uri'}])"
      ]
     },
     "execution_count": 66,
     "metadata": {},
     "output_type": "execute_result"
    }
   ],
   "source": [
    "destination"
   ]
  },
  {
   "cell_type": "code",
   "execution_count": 67,
   "id": "0cb89ce0-9eff-4f3e-b219-d842ef50b3b8",
   "metadata": {
    "tags": []
   },
   "outputs": [],
   "source": [
    "# # Create a model for endpoint\n",
    "# sm_client.create_model(\n",
    "#     ModelName = model_name,\n",
    "#     ExecutionRoleArn = role,\n",
    "#     Containers = [{\n",
    "#         \"Image\": custom_image_uri,\n",
    "#         \"Mode\": \"SingleModel\",\n",
    "#         \"ModelDataUrl\": training_step.properties.ModelArtifacts.S3ModelArtifacts.to_string(),\n",
    "#     }]\n",
    "# )"
   ]
  },
  {
   "cell_type": "code",
   "execution_count": 54,
   "id": "3b9f2a92-da57-4170-8837-545f15583a5f",
   "metadata": {
    "tags": []
   },
   "outputs": [],
   "source": [
    "# # Create endpoint configuration\n",
    "# endpoint_config = sm_client.create_endpoint_config(\n",
    "#    EndpointConfigName=\"prophet-endpoint-config\",\n",
    "#    ProductionVariants=[\n",
    "#         {\n",
    "#             \"ModelName\": \"pipelines-a267zynpnsct-CreateModel-CreateMo-RnIsVnjWsV\",\n",
    "#             \"VariantName\": \"AllTraffic\",\n",
    "#             \"ServerlessConfig\": {\n",
    "#                 \"MemorySizeInMB\": 2048,\n",
    "#                 \"MaxConcurrency\": 1,\n",
    "#                 \"ProvisionedConcurrency\": 1,\n",
    "#             }\n",
    "#         } \n",
    "#     ]\n",
    "# )"
   ]
  },
  {
   "cell_type": "code",
   "execution_count": 55,
   "id": "b7ea75d6-0c4b-42dd-ad28-0080c04b3585",
   "metadata": {
    "tags": []
   },
   "outputs": [
    {
     "data": {
      "text/plain": [
       "{'EndpointArn': 'arn:aws:sagemaker:ap-south-1:654654222480:endpoint/prophet-endpoint',\n",
       " 'ResponseMetadata': {'RequestId': '2a5e1678-1fd0-4342-9de7-1e53dad0f86c',\n",
       "  'HTTPStatusCode': 200,\n",
       "  'HTTPHeaders': {'x-amzn-requestid': '2a5e1678-1fd0-4342-9de7-1e53dad0f86c',\n",
       "   'content-type': 'application/x-amz-json-1.1',\n",
       "   'content-length': '85',\n",
       "   'date': 'Sat, 17 Aug 2024 18:16:14 GMT'},\n",
       "  'RetryAttempts': 0}}"
      ]
     },
     "execution_count": 55,
     "metadata": {},
     "output_type": "execute_result"
    }
   ],
   "source": [
    "# # Create the endpoint\n",
    "# sm_client.create_endpoint(\n",
    "#     EndpointName=endpoint_name,\n",
    "#     EndpointConfigName=endpoint_config_name\n",
    "# )"
   ]
  },
  {
   "cell_type": "code",
   "execution_count": null,
   "id": "a96c4a37-2359-4c1f-bcb2-0868abbd66a8",
   "metadata": {},
   "outputs": [],
   "source": []
  }
 ],
 "metadata": {
  "kernelspec": {
   "display_name": "conda_pytorch_p310",
   "language": "python",
   "name": "conda_pytorch_p310"
  },
  "language_info": {
   "codemirror_mode": {
    "name": "ipython",
    "version": 3
   },
   "file_extension": ".py",
   "mimetype": "text/x-python",
   "name": "python",
   "nbconvert_exporter": "python",
   "pygments_lexer": "ipython3",
   "version": "3.10.14"
  }
 },
 "nbformat": 4,
 "nbformat_minor": 5
}
