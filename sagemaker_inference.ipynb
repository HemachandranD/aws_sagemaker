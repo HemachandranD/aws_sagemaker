{
 "cells": [
  {
   "cell_type": "code",
   "execution_count": 23,
   "id": "68d06a59-eb91-43c7-8076-7e210a1fa4e8",
   "metadata": {
    "tags": []
   },
   "outputs": [
    {
     "name": "stdout",
     "output_type": "stream",
     "text": [
      "{'message': 'Missing Authentication Token'}\n"
     ]
    }
   ],
   "source": [
    "import requests\n",
    "\n",
    "csv_data = \"\"\"ds,y\n",
    "2024-08-01,100\n",
    "2024-08-02,150\n",
    "2024-08-03,200\"\"\"\n",
    "\n",
    "# response = requests.post('https://runtime.sagemaker.ap-south-1.amazonaws.com/endpoints/prophet-endpoint/invocations', data=csv_data, headers={'Content-Type': 'text/csv'})\n",
    "# print(response.json())"
   ]
  },
  {
   "cell_type": "code",
   "execution_count": 37,
   "id": "e0ed5851-f1ec-4941-975f-7fe6a73f626a",
   "metadata": {
    "tags": []
   },
   "outputs": [
    {
     "data": {
      "text/plain": [
       "'{\"columns\":[\"ds\",\"y\"],\"index\":[0,1,2,3,4],\"data\":[[\"01-01-2023\",100.496714153],[\"01-02-2023\",100.3584498518],[\"01-03-2023\",101.0061383899],[\"01-04-2023\",102.5291682463],[\"01-05-2023\",102.2950148716]]}'"
      ]
     },
     "execution_count": 37,
     "metadata": {},
     "output_type": "execute_result"
    }
   ],
   "source": [
    "df = pd.read_csv(\"synthetic_data.csv\")\n",
    "result = df.iloc[:5, :].to_json(orient=\"split\")\n",
    "result"
   ]
  },
  {
   "cell_type": "code",
   "execution_count": 28,
   "id": "63fdfa1a-dfe2-4f1d-bfc1-e112b5ffbac6",
   "metadata": {
    "tags": []
   },
   "outputs": [
    {
     "name": "stdout",
     "output_type": "stream",
     "text": [
      "404\n"
     ]
    }
   ],
   "source": [
    "response = requests.get('https://runtime.sagemaker.ap-south-1.amazonaws.com/endpoints/prophet-endpoint/')\n",
    "print(response.status_code)"
   ]
  },
  {
   "cell_type": "code",
   "execution_count": null,
   "id": "fc469b68-58b9-479b-b30b-91aedcd2a308",
   "metadata": {},
   "outputs": [],
   "source": [
    "https://prophet-endpoint.runtime.sagemaker.ap-south-1.amazonaws.com/endpoints/prophet-endpoint/invocations"
   ]
  }
 ],
 "metadata": {
  "kernelspec": {
   "display_name": "conda_python3",
   "language": "python",
   "name": "conda_python3"
  },
  "language_info": {
   "codemirror_mode": {
    "name": "ipython",
    "version": 3
   },
   "file_extension": ".py",
   "mimetype": "text/x-python",
   "name": "python",
   "nbconvert_exporter": "python",
   "pygments_lexer": "ipython3",
   "version": "3.10.14"
  }
 },
 "nbformat": 4,
 "nbformat_minor": 5
}
